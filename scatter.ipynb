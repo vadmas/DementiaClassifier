{
 "cells": [
  {
   "cell_type": "code",
   "execution_count": 1,
   "metadata": {
    "collapsed": true
   },
   "outputs": [],
   "source": [
    "%matplotlib inline\n",
    "import pandas as pd\n",
    "import numpy as np"
   ]
  },
  {
   "cell_type": "code",
   "execution_count": 4,
   "metadata": {
    "collapsed": true
   },
   "outputs": [],
   "source": [
    "# ------------------\n",
    "# Helper functions\n",
    "def print_full(x):\n",
    "    pd.set_option('display.max_rows', len(x))\n",
    "    print(x)\n",
    "    pd.reset_option('display.max_rows')"
   ]
  },
  {
   "cell_type": "code",
   "execution_count": 2,
   "metadata": {
    "collapsed": true
   },
   "outputs": [],
   "source": [
    "df_to_70  = pd.DataFrame.from_csv('output/feature_scores/1_70.csv', index_col=1)\n",
    "df_70     = pd.DataFrame.from_csv('output/feature_scores/70.csv', index_col=1)\n",
    "df_to_300 = pd.DataFrame.from_csv('output/feature_scores/1_300.csv', index_col=1)\n",
    "df_25_79_age_gender = pd.DataFrame.from_csv('output/feature_scores/25_79_age_gender.csv', index_col=1)"
   ]
  },
  {
   "cell_type": "code",
   "execution_count": 5,
   "metadata": {
    "collapsed": false
   },
   "outputs": [
    {
     "name": "stdout",
     "output_type": "stream",
     "text": [
      "                                  score_to_70  score_at_70  score_to_300\n",
      "feature                                                                 \n",
      "MeanWordLength                       0.997101          1.0      0.999331\n",
      "binaryIUObjectStool                  0.988406          1.0      0.997324\n",
      "NP_to_PRP                            0.963768          1.0      0.991639\n",
      "binaryIUObjectWindow                 0.960870          1.0      0.990970\n",
      "getImagabilityScore                  0.933333          1.0      0.984615\n",
      "binaryIUSubjectGirl                  0.907246          1.0      0.978595\n",
      "binaryIUObjectSink                   0.882609          1.0      0.972910\n",
      "keywordIUObjectWindow                0.879710          1.0      0.972241\n",
      "binaryIUActionStoolFalling           0.873913          1.0      0.970903\n",
      "binaryIUSubjectWoman                 0.862319          1.0      0.968227\n",
      "NP_to_DT_NN                          0.859420          1.0      0.967559\n",
      "keywordIUSubjectWoman                0.837681          1.0      0.962542\n",
      "RatioPronoun                         0.820290          1.0      0.958528\n",
      "keywordIUObjectStool                 0.813043          1.0      0.956856\n",
      "binaryIUObjectCurtains               0.808696          1.0      0.955853\n",
      "ADVP                                 0.773913          1.0      0.947826\n",
      "mfcc5_kurtosis                       0.771014          1.0      0.947157\n",
      "mfcc6_kurtosis                       0.740580          1.0      0.940134\n",
      "AvgPPTypeLengthNonEmbedded           0.726087          1.0      0.936789\n",
      "NumAdverbs                           0.710145          1.0      0.933110\n",
      "mfcc7_kurtosis                       0.692754          1.0      0.929097\n",
      "mfcc8_kurtosis                       0.678261          1.0      0.925753\n",
      "binaryIUPlaceExterior                0.671014          1.0      0.924080\n",
      "VP_to_VBG                            0.662319          1.0      0.922074\n",
      "keywordIUObjectCurtains              0.656522          1.0      0.920736\n",
      "PProportion                          0.656522          1.0      0.920736\n",
      "PP                                   0.649275          1.0      0.919064\n",
      "mfcc4_kurtosis                       0.608696          1.0      0.909699\n",
      "AvgPPTypeLengthEmbedded              0.598551          1.0      0.907358\n",
      "NumNouns                             0.527536          1.0      0.890970\n",
      "mfcc10_kurtosis                      0.495652          1.0      0.883612\n",
      "binaryIUObjectCookie                 0.495652          1.0      0.883612\n",
      "proportion_below_threshold_0.3       0.482609          1.0      0.880602\n",
      "keywordIUObjectSink                  0.473913          1.0      0.878595\n",
      "PPTypeRate                           0.472464          1.0      0.878261\n",
      "mfcc7_skewness                       0.465217          1.0      0.876589\n",
      "NumInflectedVerbs                    0.465217          1.0      0.876589\n",
      "binaryIUActionWaterOverflowing       0.459420          1.0      0.875251\n",
      "keywordIUObjectCookie                0.442029          1.0      0.871237\n",
      "VP_to_AUX_ADJP                       0.404348          1.0      0.862542\n",
      "keywordIUPlaceExterior               0.381159          1.0      0.857191\n",
      "NumSubordinateConjunctions           0.372464          1.0      0.855184\n",
      "getConcretenessScore                 0.365217          1.0      0.853512\n",
      "MLS                                  0.314493          1.0      0.841806\n",
      "VPProportion                         0.311594          1.0      0.841137\n",
      "C_T                                  0.311594          1.0      0.841137\n",
      "VP_to_AUX_VP                         0.307246          1.0      0.840134\n",
      "NumDeterminers                       0.279710          0.8      0.831773\n",
      "C_S                                  0.256522          1.0      0.828428\n",
      "DC_T                                 0.255072          0.9      0.827759\n",
      "AvgVPTypeLengthNonEmbedded           0.255072          0.9      0.826087\n",
      "mfcc13_kurtosis                      0.253623          0.9      0.826087\n",
      "mfcc12_kurtosis                      0.250725          1.0      0.827090\n",
      "AvgVPTypeLengthEmbedded              0.230435          1.0      0.822408\n",
      "MLT                                  0.227536          1.0      0.821739\n",
      "S                                    0.223188          1.0      0.820736\n",
      "CT_T                                 0.208696          1.0      0.817391\n",
      "mfcc3_kurtosis                       0.182609          0.9      0.809030\n",
      "avg_cos_dist                         0.165217          0.8      0.804682\n",
      "INTJ                                 0.159420          0.8      0.804013\n",
      "CN_T                                 0.146377          0.8      0.801338\n",
      "getSUBTLWordScores                   0.144928          1.0      0.802676\n",
      "mfcc11_kurtosis                      0.139130          0.8      0.799331\n",
      "mfcc9_kurtosis                       0.133333          0.6      0.791304\n",
      "T                                    0.107246          0.7      0.792642\n",
      "mfcc5_skewness                       0.101449          0.7      0.783612\n",
      "INTJ_to_UH                           0.088406          0.7      0.784950\n",
      "RatioNoun                            0.085507          0.5      0.783278\n",
      "mfcc1_skewness                       0.084058          0.6      0.777258\n",
      "ADJP                                 0.078261          0.4      0.780602\n",
      "binaryIUActionBoyTaking              0.069565          0.6      0.776589\n",
      "AvgNPTypeLengthEmbedded              0.059420          0.5      0.771572\n",
      "RatioCoordinate                      0.053623          0.2      0.753177\n",
      "mfcc8_skewness                       0.040580          0.2      0.745151\n",
      "mfcc10_vel_skewness                  0.037681          0.2      0.746154\n",
      "VP_T                                 0.034783          0.4      0.767893\n",
      "keywordIUSubjectGirl                 0.026087          0.1      0.746488\n",
      "mfcc5_vel_skewness                   0.024638          0.3      0.731438\n",
      "NumCoordinateConjunctions            0.023188          0.2      0.723077\n",
      "getFamiliarityScore                  0.021739          0.1      0.759197\n",
      "mfcc10_accel_mean                    0.005797          0.1      0.727090\n",
      "binaryIUActionWomanDryingWashing     0.005797          0.1      0.713378\n",
      "proportion_below_threshold_0.5       0.004348          0.1      0.743813\n",
      "DC_C                                 0.004348          0.1      0.732107\n"
     ]
    }
   ],
   "source": [
    "p1 = df_to_70.join(df_70,lsuffix='_to_70', rsuffix='_at_70')\n",
    "p1 = p1.join(df_to_300, lsuffix='_to_300').rename(columns={\"score\": \"score_to_300\"})\n",
    "print_full(p1)"
   ]
  },
  {
   "cell_type": "code",
   "execution_count": 17,
   "metadata": {
    "collapsed": false
   },
   "outputs": [
    {
     "data": {
      "text/plain": [
       "<matplotlib.axes._subplots.AxesSubplot at 0x1055eca10>"
      ]
     },
     "execution_count": 17,
     "metadata": {},
     "output_type": "execute_result"
    },
    {
     "data": {
      "image/png": "[encoded data removed]",
      "text/plain": [
       "<matplotlib.figure.Figure at 0x104f7eed0>"
      ]
     },
     "metadata": {},
     "output_type": "display_data"
    },
    {
     "data": {
      "image/png": "[encoded data removed]",
      "text/plain": [
       "<matplotlib.figure.Figure at 0x104e64450>"
      ]
     },
     "metadata": {},
     "output_type": "display_data"
    },
    {
     "data": {
      "image/png": "[encoded data removed]",
      "text/plain": [
       "<matplotlib.figure.Figure at 0x105510e90>"
      ]
     },
     "metadata": {},
     "output_type": "display_data"
    }
   ],
   "source": [
    "p1.plot(kind='scatter', x='score_at_70', y='score_to_70')\n",
    "p1.plot(kind='scatter', x='score_at_70', y='score_to_300')\n",
    "p1.plot(kind='scatter', x='score_to_70', y='score_to_300')"
   ]
  },
  {
   "cell_type": "code",
   "execution_count": 6,
   "metadata": {
    "collapsed": false
   },
   "outputs": [
    {
     "name": "stdout",
     "output_type": "stream",
     "text": [
      "                                     score\n",
      "feature                                   \n",
      "mfcc6_kurtosis                    1.000000\n",
      "mfcc5_kurtosis                    1.000000\n",
      "keywordIUSubjectWoman             1.000000\n",
      "keywordIUObjectWindow             1.000000\n",
      "keywordIUObjectStool              1.000000\n",
      "getImagabilityScore               1.000000\n",
      "binaryIUSubjectWoman              1.000000\n",
      "binaryIUSubjectGirl               1.000000\n",
      "binaryIUObjectWindow              1.000000\n",
      "binaryIUObjectStool               1.000000\n",
      "binaryIUObjectSink                1.000000\n",
      "binaryIUObjectCurtains            1.000000\n",
      "binaryIUActionStoolFalling        1.000000\n",
      "age                               1.000000\n",
      "RatioPronoun                      1.000000\n",
      "NP_to_PRP                         1.000000\n",
      "NP_to_DT_NN                       1.000000\n",
      "MeanWordLength                    1.000000\n",
      "ADVP                              0.998182\n",
      "NumAdverbs                        0.992727\n",
      "mfcc7_kurtosis                    0.990909\n",
      "mfcc8_kurtosis                    0.987273\n",
      "AvgPPTypeLengthNonEmbedded        0.983636\n",
      "binaryIUPlaceExterior             0.965455\n",
      "PProportion                       0.963636\n",
      "keywordIUObjectCurtains           0.960000\n",
      "PP                                0.956364\n",
      "VP_to_VBG                         0.950909\n",
      "mfcc4_kurtosis                    0.943636\n",
      "AvgPPTypeLengthEmbedded           0.905455\n",
      "NumNouns                          0.814545\n",
      "mfcc10_kurtosis                   0.801818\n",
      "keywordIUObjectSink               0.800000\n",
      "binaryIUObjectCookie              0.800000\n",
      "proportion_below_threshold_0.3    0.754545\n",
      "PPTypeRate                        0.754545\n",
      "keywordIUObjectCookie             0.740000\n",
      "NumInflectedVerbs                 0.740000\n",
      "mfcc7_skewness                    0.732727\n",
      "binaryIUActionWaterOverflowing    0.716364\n",
      "getConcretenessScore              0.667273\n",
      "VP_to_AUX_ADJP                    0.665455\n",
      "NumSubordinateConjunctions        0.618182\n",
      "keywordIUPlaceExterior            0.614545\n",
      "VP_to_AUX_VP                      0.560000\n",
      "VPProportion                      0.554545\n",
      "mfcc13_kurtosis                   0.523636\n",
      "mfcc12_kurtosis                   0.494545\n",
      "NumDeterminers                    0.494545\n",
      "C_T                               0.485455\n",
      "mfcc3_kurtosis                    0.483636\n",
      "AvgVPTypeLengthNonEmbedded        0.465455\n",
      "MLS                               0.454545\n",
      "S                                 0.445455\n",
      "DC_T                              0.445455\n",
      "AvgVPTypeLengthEmbedded           0.430909\n",
      "MLT                               0.389091\n",
      "C_S                               0.389091\n",
      "mfcc11_kurtosis                   0.378182\n",
      "INTJ                              0.367273\n",
      "avg_cos_dist                      0.360000\n",
      "T                                 0.345455\n",
      "getSUBTLWordScores                0.332727\n",
      "mfcc5_skewness                    0.320000\n",
      "CN_T                              0.316364\n",
      "CT_T                              0.298182\n",
      "mfcc9_kurtosis                    0.290909\n",
      "INTJ_to_UH                        0.276364\n",
      "mfcc1_skewness                    0.243636\n",
      "RatioNoun                         0.243636\n",
      "binaryIUActionBoyTaking           0.218182\n",
      "ADJP                              0.218182\n",
      "AvgNPTypeLengthEmbedded           0.207273\n",
      "getFamiliarityScore               0.154545\n",
      "VP_T                              0.127273\n",
      "RatioCoordinate                   0.127273\n",
      "keywordIUSubjectGirl              0.123636\n",
      "mfcc8_skewness                    0.118182\n",
      "NumCoordinateConjunctions         0.089091\n",
      "mfcc5_vel_skewness                0.081818\n",
      "proportion_below_threshold_0.5    0.074545\n",
      "mfcc10_vel_skewness               0.047273\n",
      "TTR                               0.038182\n",
      "DC_C                              0.029091\n",
      "VP                                0.027273\n",
      "mfcc10_accel_mean                 0.023636\n",
      "binaryIUActionWomanDryingWashing  0.023636\n",
      "mfcc6_accel_skewness              0.021818\n",
      "binaryIUSubjectBoy                0.010909\n",
      "VP_to_AUX                         0.010909\n",
      "MeanLengthOfSentence              0.009091\n",
      "mfcc12_accel_mean                 0.007273\n",
      "tree_height                       0.001818\n",
      "binaryIUPlaceKitchen              0.001818\n"
     ]
    }
   ],
   "source": [
    "print_full(df_25_79_age_gender)"
   ]
  },
  {
   "cell_type": "code",
   "execution_count": null,
   "metadata": {
    "collapsed": true
   },
   "outputs": [],
   "source": []
  }
 ],
 "metadata": {
  "kernelspec": {
   "display_name": "Python 2",
   "language": "python",
   "name": "python2"
  },
  "language_info": {
   "codemirror_mode": {
    "name": "ipython",
    "version": 2
   },
   "file_extension": ".py",
   "mimetype": "text/x-python",
   "name": "python",
   "nbconvert_exporter": "python",
   "pygments_lexer": "ipython2",
   "version": "2.7.11"
  }
 },
 "nbformat": 4,
 "nbformat_minor": 0
}
